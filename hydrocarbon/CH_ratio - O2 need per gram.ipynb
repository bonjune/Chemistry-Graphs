{
 "cells": [
  {
   "cell_type": "code",
   "execution_count": 40,
   "metadata": {
    "collapsed": true
   },
   "outputs": [],
   "source": [
    "import matplotlib.pyplot as plt"
   ]
  },
  {
   "cell_type": "code",
   "execution_count": 62,
   "metadata": {
    "collapsed": true
   },
   "outputs": [],
   "source": [
    "def getRatio(numerator, denominator):\n",
    "    if type(denominator) != int and type(numerator) != int:\n",
    "        print('Parameters should be integer : getRatio')\n",
    "        return\n",
    "    return numerator / denominator"
   ]
  },
  {
   "cell_type": "code",
   "execution_count": 63,
   "metadata": {
    "collapsed": false
   },
   "outputs": [],
   "source": [
    "def buildHydroCarbon(num_carbons):\n",
    "    hydro_carbons = [] \n",
    "    # C_nH_2n-2, C_nH_2n, C_nH_2n+2\n",
    "    if num_carbons == 1:\n",
    "        hydro_carbons.append({'name': 'C_1 H-4', 'num_carbons': 1, 'num_hydrogen': 4})\n",
    "        return hydro_carbons\n",
    "    for num in range(1, 4):\n",
    "        num_hydrogen = num_carbons * 2 + 2 * (num-2)\n",
    "        name = 'C_%d H_%d' %(num_carbons, num_hydrogen)\n",
    "        hydro_carbons.append({'name': name, 'num_carbons': num_carbons, 'num_hydrogen': num_hydrogen})\n",
    "    return hydro_carbons"
   ]
  },
  {
   "cell_type": "code",
   "execution_count": 64,
   "metadata": {
    "collapsed": true
   },
   "outputs": [],
   "source": [
    "def howMuchOxygenNeeded(hydro_carbons):\n",
    "    oxygen_needed = hydro_carbons['num_carbons'] + (hydro_carbons['num_hydrogen'] / 4)\n",
    "    oxygen_needed_per_gram = oxygen_needed / (12*hydro_carbons['num_carbons'] + hydro_carbons['num_hydrogen'])\n",
    "    return oxygen_needed_per_gram"
   ]
  },
  {
   "cell_type": "code",
   "execution_count": 81,
   "metadata": {
    "collapsed": false,
    "scrolled": true
   },
   "outputs": [
    {
     "name": "stdout",
     "output_type": "stream",
     "text": [
      "ratio: 4.0000 , O2 need per gram: 0.1250\n",
      "ratio: 4.0000 , O2 need per gram: 0.1250\n",
      "ratio: 4.0000 , O2 need per gram: 0.1250\n",
      "ratio: 1.0000 , O2 need per gram: 0.0962\n",
      "ratio: 2.0000 , O2 need per gram: 0.1071\n",
      "ratio: 3.0000 , O2 need per gram: 0.1167\n",
      "ratio: 1.3333 , O2 need per gram: 0.1000\n",
      "ratio: 2.0000 , O2 need per gram: 0.1071\n",
      "ratio: 2.6667 , O2 need per gram: 0.1136\n",
      "ratio: 1.5000 , O2 need per gram: 0.1019\n",
      "ratio: 2.0000 , O2 need per gram: 0.1071\n",
      "ratio: 2.5000 , O2 need per gram: 0.1121\n",
      "ratio: 1.6000 , O2 need per gram: 0.1029\n",
      "ratio: 2.0000 , O2 need per gram: 0.1071\n",
      "ratio: 2.4000 , O2 need per gram: 0.1111\n",
      "ratio: 1.6667 , O2 need per gram: 0.1037\n",
      "ratio: 2.0000 , O2 need per gram: 0.1071\n",
      "ratio: 2.3333 , O2 need per gram: 0.1105\n",
      "ratio: 1.7143 , O2 need per gram: 0.1042\n",
      "ratio: 2.0000 , O2 need per gram: 0.1071\n",
      "ratio: 2.2857 , O2 need per gram: 0.1100\n",
      "ratio: 1.7500 , O2 need per gram: 0.1045\n",
      "ratio: 2.0000 , O2 need per gram: 0.1071\n",
      "ratio: 2.2500 , O2 need per gram: 0.1096\n"
     ]
    },
    {
     "data": {
      "image/png": "[encoded data removed]",
      "text/plain": [
       "<matplotlib.figure.Figure at 0x21a9ce60320>"
      ]
     },
     "metadata": {},
     "output_type": "display_data"
    }
   ],
   "source": [
    "for step in range(1, 9):\n",
    "    hydrocarbons = buildHydroCarbon(step)\n",
    "    # print(hydrocarbons)\n",
    "    # (ratio, oxygen_needed)\n",
    "    ratio, oxygen_needed = 0., 0.\n",
    "    for num in range(1,4):\n",
    "        if step == 1:\n",
    "            ratio, oxygen_needed = \\\n",
    "                getRatio(hydrocarbons[0]['num_hydrogen'], hydrocarbons[0]['num_carbons']), howMuchOxygenNeeded(hydrocarbons[0])\n",
    "        else:\n",
    "            ratio, oxygen_needed = \\\n",
    "                getRatio(hydrocarbons[num-1]['num_hydrogen'], hydrocarbons[num-1]['num_carbons']), howMuchOxygenNeeded(hydrocarbons[num-1])\n",
    "        print('ratio: %.4f' % ratio, ', O2 need per gram: %.4f' % oxygen_needed)\n",
    "        plt.plot(ratio, oxygen_needed, 'ro')\n",
    "\n",
    "plt.ylabel('O2 need per gram')\n",
    "plt.xlabel('H/C ratio')\n",
    "plt.axis([0, 5, 0.09, 0.135])\n",
    "plt.show()"
   ]
  },
  {
   "cell_type": "code",
   "execution_count": null,
   "metadata": {
    "collapsed": true
   },
   "outputs": [],
   "source": [
    ""
   ]
  }
 ],
 "metadata": {
  "anaconda-cloud": {},
  "kernelspec": {
   "display_name": "Python [default]",
   "language": "python",
   "name": "python3"
  },
  "language_info": {
   "codemirror_mode": {
    "name": "ipython",
    "version": 3.0
   },
   "file_extension": ".py",
   "mimetype": "text/x-python",
   "name": "python",
   "nbconvert_exporter": "python",
   "pygments_lexer": "ipython3",
   "version": "3.5.2"
  }
 },
 "nbformat": 4,
 "nbformat_minor": 0
}